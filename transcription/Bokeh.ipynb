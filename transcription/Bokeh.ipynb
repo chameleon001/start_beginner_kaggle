{
 "metadata": {
  "language_info": {
   "codemirror_mode": {
    "name": "ipython",
    "version": 3
   },
   "file_extension": ".py",
   "mimetype": "text/x-python",
   "name": "python",
   "nbconvert_exporter": "python",
   "pygments_lexer": "ipython3",
   "version": 3
  },
  "orig_nbformat": 2,
  "kernelspec": {
   "name": "python_defaultSpec_1596785260535",
   "display_name": "Python 3.8.3 64-bit ('pytorch': conda)"
  }
 },
 "nbformat": 4,
 "nbformat_minor": 2,
 "cells": [
  {
   "cell_type": "markdown",
   "metadata": {},
   "source": [
    "* 역자 : Data ScienceTutorial for Beginners의 시리즈중 시각화 파트입니다.\n",
    "        저번엔 Seaborn을 이용한 시각화였다면 이번엔 Bokeh을 이용한 시각화입니다."
   ]
  },
  {
   "cell_type": "markdown",
   "metadata": {},
   "source": [
    "# 소개\n",
    "우리는 이 튜토리얼에서 bokeh 라이브러리의 기초적인 부분을 학습할 수 있다.\n",
    "Bokeh 라이브러리는 상호 시각화 라이브러리입니다.\n",
    "<br> 나(원글쓴이)는 bokeh 튜토리얼을 2부분으로 나누었다.\n",
    "왜냐하면 캐글에서 bokeh을 실행 시킬경우 browser와 충돌이 있다.\n",
    "\n",
    "1. PART 1:\n",
    "    1. Basic Data Exploration with Pandas\n",
    "    1. Explanation of Bokeh Packages\n",
    "    1. Plotting with Glyphs\n",
    "    1. Additional Glyps\n",
    "    1. Data Formats\n",
    "    1. Customizing Glyphs\n",
    "    1. Layouts\n",
    "    1. Linking Plots\n",
    "1. PART 2: https://www.kaggle.com/kanncaa1/interactive-bokeh-tutorial-part-2/editnb\n",
    "    1. Callbacks \n",
    "        * Slider\n",
    "        * dropdowns\n"
   ]
  },
  {
   "cell_type": "code",
   "execution_count": 2,
   "metadata": {},
   "outputs": [],
   "source": [
    "# 이 파이썬3 환경은 유용한 분석 라이브러리들이 있다\n",
    "# kaggle/python docker image는 다음 링크에서 받을 수 있다.: https://github.com/kaggle/docker-python\n",
    "# 예를 들어 몇몇 유용한 패키지를 로드해보자.\n",
    "\n",
    "import numpy as np # linear algebra\n",
    "import pandas as pd #data processing, CSV file I/O (e.g. pd.read_csv)\n",
    "\n",
    "# 입력 데이터 파일은 \"../input/\" 폴더에 있다.\n",
    "# 예를 들어 실행을 클릭하거나 Shift+Enter를 누르면 입력 폴더에 있는 파일이 나열된다.\n",
    "\n",
    "file_path = \"../../DataSet/Video Game Sales\"\n",
    "\n",
    "from subprocess import check_output\n",
    "# print(check_output([\"ls\", file_path]).decode(\"utf8\"))\n",
    "\n",
    "# 현재 디렉토리에 쓰는 모든 결과는 출력으로 저장된다."
   ]
  },
  {
   "cell_type": "markdown",
   "metadata": {},
   "source": [
    "##  Pandas로 Data 기초 살펴보기\n",
    "<br> 모든 작업을 하기전에 우리는 read_csv()를 이용하여 데이터를 가져와야한다.\n",
    "<br> 시각화를 위해서는 데이터를 이해하고 데이터에 nan값이 있는지 확인해야 합니다.\n",
    "\n",
    "<br> 우리는 pandas library를 사용할겁니다.\n",
    "\n",
    "    * read_csv()\n",
    "    * info()\n",
    "    * head()"
   ]
  },
  {
   "cell_type": "code",
   "execution_count": 4,
   "metadata": {
    "tags": []
   },
   "outputs": [
    {
     "output_type": "stream",
     "name": "stdout",
     "text": "<class 'pandas.core.frame.DataFrame'>\nRangeIndex: 16598 entries, 0 to 16597\nData columns (total 11 columns):\n #   Column        Non-Null Count  Dtype  \n---  ------        --------------  -----  \n 0   Rank          16598 non-null  int64  \n 1   Name          16598 non-null  object \n 2   Platform      16598 non-null  object \n 3   Year          16327 non-null  float64\n 4   Genre         16598 non-null  object \n 5   Publisher     16540 non-null  object \n 6   NA_Sales      16598 non-null  float64\n 7   EU_Sales      16598 non-null  float64\n 8   JP_Sales      16598 non-null  float64\n 9   Other_Sales   16598 non-null  float64\n 10  Global_Sales  16598 non-null  float64\ndtypes: float64(6), int64(1), object(4)\nmemory usage: 1.4+ MB\n"
    }
   ],
   "source": [
    "# info()함수에서 볼 수 있다시피 16598이 있다.\n",
    "# 그러나, 연도에는 16327개의 항목이 있습니다. 이것은 연도에 NAN 값이 있다는것을 의미합니다.\n",
    "# 또한 연도는 integer형이여야 하지만, 이것은 float형으로 주어진다. 그러므로 우리가 이것을 integer형으로 변환해주어야 한다.\n",
    "# 게시자(publisher)는 NAN 값을 가지고 있다.\n",
    "# Also Year should be integer but it is given as float. Therefore we will convert it.\n",
    "# In addition, publisher has NAN values.\n",
    "data = pd.read_csv(file_path+\"/vgsales.csv\")\n",
    "data.info()"
   ]
  },
  {
   "cell_type": "code",
   "execution_count": 5,
   "metadata": {
    "tags": []
   },
   "outputs": [
    {
     "output_type": "stream",
     "name": "stdout",
     "text": "<class 'pandas.core.frame.DataFrame'>\nInt64Index: 16291 entries, 0 to 16597\nData columns (total 11 columns):\n #   Column        Non-Null Count  Dtype  \n---  ------        --------------  -----  \n 0   Rank          16291 non-null  int64  \n 1   Name          16291 non-null  object \n 2   Platform      16291 non-null  object \n 3   Year          16291 non-null  float64\n 4   Genre         16291 non-null  object \n 5   Publisher     16291 non-null  object \n 6   NA_Sales      16291 non-null  float64\n 7   EU_Sales      16291 non-null  float64\n 8   JP_Sales      16291 non-null  float64\n 9   Other_Sales   16291 non-null  float64\n 10  Global_Sales  16291 non-null  float64\ndtypes: float64(6), int64(1), object(4)\nmemory usage: 1.5+ MB\n"
    }
   ],
   "source": [
    "# Nan값을 없애보자.\n",
    "data.dropna(how=\"any\", inplace = True)\n",
    "data.info()"
   ]
  },
  {
   "cell_type": "code",
   "execution_count": 6,
   "metadata": {},
   "outputs": [
    {
     "output_type": "execute_result",
     "data": {
      "text/plain": "   Rank                      Name Platform  Year         Genre Publisher  \\\n0     1                Wii Sports      Wii  2006        Sports  Nintendo   \n1     2         Super Mario Bros.      NES  1985      Platform  Nintendo   \n2     3            Mario Kart Wii      Wii  2008        Racing  Nintendo   \n3     4         Wii Sports Resort      Wii  2009        Sports  Nintendo   \n4     5  Pokemon Red/Pokemon Blue       GB  1996  Role-Playing  Nintendo   \n\n   NA_Sales  EU_Sales  JP_Sales  Other_Sales  Global_Sales  \n0     41.49     29.02      3.77         8.46         82.74  \n1     29.08      3.58      6.81         0.77         40.24  \n2     15.85     12.88      3.79         3.31         35.82  \n3     15.75     11.01      3.28         2.96         33.00  \n4     11.27      8.89     10.22         1.00         31.37  ",
      "text/html": "<div>\n<style scoped>\n    .dataframe tbody tr th:only-of-type {\n        vertical-align: middle;\n    }\n\n    .dataframe tbody tr th {\n        vertical-align: top;\n    }\n\n    .dataframe thead th {\n        text-align: right;\n    }\n</style>\n<table border=\"1\" class=\"dataframe\">\n  <thead>\n    <tr style=\"text-align: right;\">\n      <th></th>\n      <th>Rank</th>\n      <th>Name</th>\n      <th>Platform</th>\n      <th>Year</th>\n      <th>Genre</th>\n      <th>Publisher</th>\n      <th>NA_Sales</th>\n      <th>EU_Sales</th>\n      <th>JP_Sales</th>\n      <th>Other_Sales</th>\n      <th>Global_Sales</th>\n    </tr>\n  </thead>\n  <tbody>\n    <tr>\n      <th>0</th>\n      <td>1</td>\n      <td>Wii Sports</td>\n      <td>Wii</td>\n      <td>2006</td>\n      <td>Sports</td>\n      <td>Nintendo</td>\n      <td>41.49</td>\n      <td>29.02</td>\n      <td>3.77</td>\n      <td>8.46</td>\n      <td>82.74</td>\n    </tr>\n    <tr>\n      <th>1</th>\n      <td>2</td>\n      <td>Super Mario Bros.</td>\n      <td>NES</td>\n      <td>1985</td>\n      <td>Platform</td>\n      <td>Nintendo</td>\n      <td>29.08</td>\n      <td>3.58</td>\n      <td>6.81</td>\n      <td>0.77</td>\n      <td>40.24</td>\n    </tr>\n    <tr>\n      <th>2</th>\n      <td>3</td>\n      <td>Mario Kart Wii</td>\n      <td>Wii</td>\n      <td>2008</td>\n      <td>Racing</td>\n      <td>Nintendo</td>\n      <td>15.85</td>\n      <td>12.88</td>\n      <td>3.79</td>\n      <td>3.31</td>\n      <td>35.82</td>\n    </tr>\n    <tr>\n      <th>3</th>\n      <td>4</td>\n      <td>Wii Sports Resort</td>\n      <td>Wii</td>\n      <td>2009</td>\n      <td>Sports</td>\n      <td>Nintendo</td>\n      <td>15.75</td>\n      <td>11.01</td>\n      <td>3.28</td>\n      <td>2.96</td>\n      <td>33.00</td>\n    </tr>\n    <tr>\n      <th>4</th>\n      <td>5</td>\n      <td>Pokemon Red/Pokemon Blue</td>\n      <td>GB</td>\n      <td>1996</td>\n      <td>Role-Playing</td>\n      <td>Nintendo</td>\n      <td>11.27</td>\n      <td>8.89</td>\n      <td>10.22</td>\n      <td>1.00</td>\n      <td>31.37</td>\n    </tr>\n  </tbody>\n</table>\n</div>"
     },
     "metadata": {},
     "execution_count": 6
    }
   ],
   "source": [
    "# float형을 int형으로 변환해보자.\n",
    "data.Year = data.Year.astype(int)\n",
    "data.head()"
   ]
  },
  {
   "cell_type": "markdown",
   "metadata": {},
   "source": [
    "## Bokeh Packages 설명\n",
    "bokeh 라이브러리의 경우 몇가지를 사용합니다 :\n",
    "* output_file: that save our figure with .html extension\n",
    "* show: show the figure\n",
    "* figure: creates empty figure\n",
    "* ColumnarDataSource: Data source of bokeh\n",
    "* HoverTool: like cursor\n",
    "* CategoricalColorMapper: Like a hue in seaborn. If you do not know it look at my seaborn tutorial\n",
    "    * https://www.kaggle.com/kanncaa1/seaborn-for-beginners\n",
    "* Row and column: puts plots in row order or column order in figure\n",
    "* gridplot\n",
    "* Tabs and Panel: Panel is figure for each plot and tab is like button\n",
    "    \n"
   ]
  }
 ]
}