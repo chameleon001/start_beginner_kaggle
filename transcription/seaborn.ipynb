{
 "metadata": {
  "language_info": {
   "codemirror_mode": {
    "name": "ipython",
    "version": 3
   },
   "file_extension": ".py",
   "mimetype": "text/x-python",
   "name": "python",
   "nbconvert_exporter": "python",
   "pygments_lexer": "ipython3",
   "version": 3
  },
  "orig_nbformat": 2,
  "kernelspec": {
   "name": "python_defaultSpec_1596502400114",
   "display_name": "Python 3.8.3 64-bit ('pytorch': conda)"
  }
 },
 "nbformat": 4,
 "nbformat_minor": 2,
 "cells": [
  {
   "cell_type": "markdown",
   "metadata": {},
   "source": [
    "이번 번역은 앞서 번역했던 Data_Sciencetutorial_for_Beginners에서 Data Visualization부분 중 하나인 Seaborn 부분을 번역하였습니다.\n",
    "원본은 https://www.kaggle.com/kanncaa1/seaborn-tutorial-for-beginners 를 참고 해주시기 바랍니다.\n",
    "\n",
    "역자 : 이 커널은 Data Visualization만을 위한 커널이라기보단 이 커널을 해결하기위해 데이터를 Visualization 예를 보여준거같습니다."
   ]
  },
  {
   "cell_type": "markdown",
   "metadata": {},
   "source": [
    "# 목차\n",
    "1. 데이터 읽기\n",
    "1. 각 주(state)의 빈곤율(poverty rate )\n",
    "1. 사망한 사람들의 가장 흔한 성과 이름 15개\n",
    "1. 주(state)에서 25세 이상인 사람들의 고등학교 졸업률\n",
    "1. 흑인, 백인, 아메리카 원주민, 아시아 및 히스패닉 인종들의 주(state) 인구 비율\n",
    "1. 고등학교 졸업률 vs 주(state)의 빈곤율\n",
    "1. 특징 없애기(Kill properties)\n",
    "    * 사망 방식 (Manner of death)\n",
    "    * 살인 무기 (Kill weapon)\n",
    "    * 사망자들의 연령\n",
    "    * 사망자들의 인종\n",
    "    * 가장 위험한 도시들\n",
    "    * 가장 위험한 주(state)들\n",
    "    * 사망자들이 정신질환을 가지고 있었는지 없었는지.\n",
    "    * 위협 유형\n",
    "    * 도망 유형\n",
    "    * 경찰이 바디캠(body cam)을 가지고 있었는지 없었는지\n",
    "1. 사망자 데이터에서 주(state)의 인종 비율\n",
    "1. 사망자 데이터에서 주(state)의 사망자 수\n",
    "1. Plot 시각화 튜토리얼 : https://www.kaggle.com/kanncaa1/plotly-tutorial-for-beginners\n",
    "<br>\n",
    "<br>\n",
    "Plot Contents:\n",
    "* [Bar Plot](#1)\n",
    "* [Point Plot](#2)\n",
    "* [Joint Plot](#3)\n",
    "* [Pie Chart](#4)\n",
    "* [Lm Plot](#5)\n",
    "* [Kde Plot](#6)\n",
    "* [Violin Plot](#7)\n",
    "* [Heatmap](#8)\n",
    "* [Box Plot](#9)\n",
    "* [Swarm Plot](#10)\n",
    "* [Pair Plot](#11)\n",
    "* [Count Plot](#12)\n",
    "    \n"
   ]
  },
  {
   "cell_type": "code",
   "execution_count": 16,
   "metadata": {},
   "outputs": [],
   "source": [
    "# Python 3 환경에는 많은 유용한 분석 라이브러리들이 설치되어져있다.\n",
    "# 이것은 kaggle/python 도커(docker) 이미지는 다음 링크에서 받을수 있다. : https://github.com/kaggle/docker-python\n",
    "# 예를 들어 불러올때 유용한 몇개의 패키지가 있습니다.\n",
    "\n",
    "import numpy as np # linear algebra\n",
    "import pandas as pd # data processing, CSV file I/O (e.g. pd.read_csv)\n",
    "import seaborn as sns\n",
    "import matplotlib.pyplot as plt\n",
    "from collections import Counter\n",
    "%matplotlib inline\n",
    "# 입력데이터 파일은 \"../input/\"에 있습니다.\n",
    "# 역자: 종료된 커널이다보니 종종 directory 위치가 바뀐 경우가 있다.\n",
    "# 역자는 따로 file_path 변수를 생성하여 입력 데이터 위치를 맞춰주고자 한다.\n",
    "# 독자분들께서는 file_path를 자신의 환경에 맞게 수정해주시길 바랍니다.\n",
    "\n",
    "file_path = 'D:\\Chameleon\\pytorch\\연습\\pytorch_exam\\DataSet\\Fatal Police Shootings in the US'\n",
    "\n",
    "import warnings\n",
    "warnings.filterwarnings('ignore')\n",
    "\n",
    "from subprocess import check_output\n",
    "# print(check_output([\"ls\", \"../input\"]).decode(\"utf8\"))\n",
    "# print(check_output([\"ls\", file_path]).decode(\"utf8\"))\n",
    "\n",
    "# 현재 디렉토리에 쓰는 모든 결과는 출력으로 저장됩니다."
   ]
  },
  {
   "cell_type": "code",
   "execution_count": 17,
   "metadata": {},
   "outputs": [],
   "source": [
    "# data 읽기\n",
    "median_house_hold_in_come = pd.read_csv(file_path+\"/MedianHouseholdIncome2015.csv\", encoding=\"windows-1252\")\n",
    "percentage_people_below_poverty_level = pd.read_csv(file_path + \"/PercentagePeopleBelowPovertyLevel.csv\", encoding=\"windows-1252\")\n",
    "percent_over_25_completed_highSchool = pd.read_csv(file_path+'/PercentOver25CompletedHighSchool.csv', encoding=\"windows-1252\")\n",
    "share_race_city = pd.read_csv(file_path+'/ShareRaceByCity.csv', encoding=\"windows-1252\")\n",
    "kill = pd.read_csv(file_path+'/PoliceKillingsUS.csv', encoding=\"windows-1252\")"
   ]
  },
  {
   "cell_type": "code",
   "execution_count": 18,
   "metadata": {},
   "outputs": [
    {
     "output_type": "execute_result",
     "data": {
      "text/plain": "  Geographic Area             City poverty_rate\n0              AL       Abanda CDP         78.8\n1              AL   Abbeville city         29.1\n2              AL  Adamsville city         25.5\n3              AL     Addison town         30.7\n4              AL       Akron town           42",
      "text/html": "<div>\n<style scoped>\n    .dataframe tbody tr th:only-of-type {\n        vertical-align: middle;\n    }\n\n    .dataframe tbody tr th {\n        vertical-align: top;\n    }\n\n    .dataframe thead th {\n        text-align: right;\n    }\n</style>\n<table border=\"1\" class=\"dataframe\">\n  <thead>\n    <tr style=\"text-align: right;\">\n      <th></th>\n      <th>Geographic Area</th>\n      <th>City</th>\n      <th>poverty_rate</th>\n    </tr>\n  </thead>\n  <tbody>\n    <tr>\n      <th>0</th>\n      <td>AL</td>\n      <td>Abanda CDP</td>\n      <td>78.8</td>\n    </tr>\n    <tr>\n      <th>1</th>\n      <td>AL</td>\n      <td>Abbeville city</td>\n      <td>29.1</td>\n    </tr>\n    <tr>\n      <th>2</th>\n      <td>AL</td>\n      <td>Adamsville city</td>\n      <td>25.5</td>\n    </tr>\n    <tr>\n      <th>3</th>\n      <td>AL</td>\n      <td>Addison town</td>\n      <td>30.7</td>\n    </tr>\n    <tr>\n      <th>4</th>\n      <td>AL</td>\n      <td>Akron town</td>\n      <td>42</td>\n    </tr>\n  </tbody>\n</table>\n</div>"
     },
     "metadata": {},
     "execution_count": 18
    }
   ],
   "source": [
    "percentage_people_below_poverty_level.head()"
   ]
  },
  {
   "cell_type": "code",
   "execution_count": 19,
   "metadata": {
    "tags": []
   },
   "outputs": [
    {
     "output_type": "stream",
     "name": "stdout",
     "text": "<class 'pandas.core.frame.DataFrame'>\nRangeIndex: 29329 entries, 0 to 29328\nData columns (total 3 columns):\n #   Column           Non-Null Count  Dtype \n---  ------           --------------  ----- \n 0   Geographic Area  29329 non-null  object\n 1   City             29329 non-null  object\n 2   poverty_rate     29329 non-null  object\ndtypes: object(3)\nmemory usage: 687.5+ KB\n"
    }
   ],
   "source": [
    "percentage_people_below_poverty_level.info()"
   ]
  },
  {
   "cell_type": "code",
   "execution_count": 20,
   "metadata": {},
   "outputs": [
    {
     "output_type": "execute_result",
     "data": {
      "text/plain": "0       1464\n-        201\n7.4      129\n6.7      129\n10.9     128\n        ... \n65.9       1\n62.3       1\n69.1       1\n76.5       1\n57.2       1\nName: poverty_rate, Length: 771, dtype: int64"
     },
     "metadata": {},
     "execution_count": 20
    }
   ],
   "source": [
    "percentage_people_below_poverty_level.poverty_rate.value_counts()"
   ]
  },
  {
   "cell_type": "code",
   "execution_count": 21,
   "metadata": {},
   "outputs": [
    {
     "output_type": "execute_result",
     "data": {
      "text/plain": "array(['AL', 'AK', 'AZ', 'AR', 'CA', 'CO', 'CT', 'DE', 'DC', 'FL', 'GA',\n       'HI', 'ID', 'IL', 'IN', 'IA', 'KS', 'KY', 'LA', 'ME', 'MD', 'MA',\n       'MI', 'MN', 'MS', 'MO', 'MT', 'NE', 'NV', 'NH', 'NJ', 'NM', 'NY',\n       'NC', 'ND', 'OH', 'OK', 'OR', 'PA', 'RI', 'SC', 'SD', 'TN', 'TX',\n       'UT', 'VT', 'VA', 'WA', 'WV', 'WI', 'WY'], dtype=object)"
     },
     "metadata": {},
     "execution_count": 21
    }
   ],
   "source": [
    "percentage_people_below_poverty_level['Geographic Area'].unique()"
   ]
  },
  {
   "cell_type": "markdown",
   "metadata": {},
   "source": [
    "<a id=\"1\"></a> \n",
    "## Bar Plot"
   ]
  },
  {
   "cell_type": "code",
   "execution_count": null,
   "metadata": {},
   "outputs": [],
   "source": []
  }
 ]
}