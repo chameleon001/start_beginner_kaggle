{
 "metadata": {
  "language_info": {
   "codemirror_mode": {
    "name": "ipython",
    "version": 3
   },
   "file_extension": ".py",
   "mimetype": "text/x-python",
   "name": "python",
   "nbconvert_exporter": "python",
   "pygments_lexer": "ipython3",
   "version": 3
  },
  "orig_nbformat": 2,
  "kernelspec": {
   "name": "python_defaultSpec_1596785260269",
   "display_name": "Python 3.8.3 64-bit ('pytorch': conda)"
  }
 },
 "nbformat": 4,
 "nbformat_minor": 2,
 "cells": [
  {
   "cell_type": "markdown",
   "metadata": {},
   "source": [
    "*역자 : 안녕하세요. 이번 번역은 seaborn 시각화 튜토리얼의 뒷부분인 Plot 시각화 튜토리얼에 대한 번역입니다.(원본 : https://www.kaggle.com/kanncaa1/plotly-tutorial-for-beginners) seaborn 시각화를 보지 않으신분은 먼저 보고 오시는것을 추천드립니다.\n"
   ]
  },
  {
   "cell_type": "markdown",
   "metadata": {},
   "source": [
    "# 소개\n",
    "* 이번 커널에서 우리는 plot 라이브러리를 어떻게 사용하는지에 대해 배울 것이다.\n",
    "    * Plotly library : Plotly의 파이썬 그래프(graphing)라이브러리는 상호적이며, 발행하는 그래프수준의 품질이다.(Plotly's Python graphing library makes interactive, publication-quality graphs online)\n",
    "    \n",
    "    line plots, scatter plots, area charts, bar charts, error bars, box plots, histograms, heatmaps, subplots, multiple-axes, polar charts, and bubble charts들을 어떻게 만드는지에 대한 예제입니다.\n",
    "\n",
    "<br>목록:\n",
    "\n",
    "1. [Loading Data and Explanation of Features](#1)\n",
    "1. [Line Charts](#2)\n",
    "1. [Scatter Charts](#3)\n",
    "1. [Bar Charts](#4)\n",
    "1. [Pie Charts](#5)\n",
    "1. [Bubble Charts](#6)\n",
    "1. [Histogram](#7)\n",
    "1. [Word Cloud](#8)\n",
    "1. [Box Plot](#9)\n",
    "1. [Scatter Plot Matrix](#10)\n",
    "1. Map Plots: https://www.kaggle.com/kanncaa1/time-series-prediction-with-eda-of-world-war-2\n",
    "1. Data Visualization\n",
    "    1. Seaborn: https://www.kaggle.com/kanncaa1/seaborn-for-beginners\n",
    "    1. Bokeh 1: https://www.kaggle.com/kanncaa1/interactive-bokeh-tutorial-part-1\n",
    "    1. Bokeh 2: https://www.kaggle.com/kanncaa1/interactive-bokeh-tutorial-part-\n",
    "    1. Rare Visualization: https://www.kaggle.com/kanncaa1/rare-visualization-tools\n",
    "1. [Inset Plots](#11)\n",
    "1. [3D Scatter Plot with Colorscaling](#12)\n",
    "1. [Multiple Subplots](#13)\n",
    "1. Earthquake Animation: https://www.kaggle.com/kanncaa1/earthquake-animation-with-plotly\n",
    "\n"
   ]
  },
  {
   "cell_type": "code",
   "execution_count": 9,
   "metadata": {},
   "outputs": [],
   "source": [
    "# pip install plotly==3.10.0"
   ]
  },
  {
   "cell_type": "code",
   "execution_count": 8,
   "metadata": {
    "tags": []
   },
   "outputs": [
    {
     "output_type": "display_data",
     "data": {
      "text/html": "        <script type=\"text/javascript\">\n        window.PlotlyConfig = {MathJaxConfig: 'local'};\n        if (window.MathJax) {MathJax.Hub.Config({SVG: {font: \"STIX-Web\"}});}\n        if (typeof require !== 'undefined') {\n        require.undef(\"plotly\");\n        requirejs.config({\n            paths: {\n                'plotly': ['https://cdn.plot.ly/plotly-latest.min']\n            }\n        });\n        require(['plotly'], function(Plotly) {\n            window._Plotly = Plotly;\n        });\n        }\n        </script>\n        "
     },
     "metadata": {}
    },
    {
     "output_type": "stream",
     "name": "stdout",
     "text": "['cwurData.csv', 'educational_attainment_supplementary_data.csv', 'education_expenditure_supplementary_data.csv', 'school_and_country_table.csv', 'shanghaiData.csv', 'timesData.csv']\n"
    }
   ],
   "source": [
    "\n",
    "# 이 파이썬3 환경은 유용한 분석 라이브러리들이 있다\n",
    "# kaggle/python docker image는 다음 링크에서 받을 수 있다.: https://github.com/kaggle/docker-python\n",
    "# 예를 들어 몇몇 유용한 패키지를 로드해보자.\n",
    "import numpy as np # linear algebra\n",
    "import pandas as pd # data processing, CSV file I/O (e.g. pd.read_csv)\n",
    "\n",
    "# plotly\n",
    "# import plotly.plotly as py\n",
    "from plotly.offline import init_notebook_mode, iplot, plot\n",
    "import plotly as py\n",
    "init_notebook_mode(connected=True)\n",
    "import plotly.graph_objs as go\n",
    "\n",
    "# word cloud library\n",
    "from wordcloud import WordCloud\n",
    "\n",
    "# matplotlib\n",
    "import matplotlib.pyplot as plt\n",
    "# 입력 데이터 파일은 \"../input/\" 폴더에 있다.\n",
    "# 예를 들어 실행을 클릭하거나 Shift+Enter를 누르면 입력 폴더에 있는 파일이 나열된다.\n",
    "# For example, running this (by clicking run or pressing Shift+Enter) will list the files in the input directory\n",
    "\n",
    "import os\n",
    "file_path = \"../../DataSet/World University Rankings\"\n",
    "print(os.listdir(file_path))\n",
    "\n",
    "# 현재 디렉토리에 쓰는 모든 결과는 출력으로 저장된다."
   ]
  },
  {
   "cell_type": "markdown",
   "metadata": {},
   "source": [
    "<a id=\"1\"></a> <br>\n",
    "# 데이터 불러 오기 및 기능 설명\n",
    "<font color='red'>\n",
    "* timesData는 다음과 같이 14가지 특징을 가진다.:    *역자 timesData는 데이터셋 이름입니다.\n",
    "\n",
    "    <font color='black'>\n",
    "    * world_rank             \n",
    "    * university_name       \n",
    "    * country               \n",
    "    * teaching                \n",
    "    * international            \n",
    "    * research                 \n",
    "    * citations                \n",
    "    * income                   \n",
    "    * total_score              \n",
    "    * num_students             \n",
    "    * student_staff_ratio      \n",
    "    * international_students   \n",
    "    * female_male_ratio        \n",
    "    * year "
   ]
  },
  {
   "cell_type": "code",
   "execution_count": 9,
   "metadata": {},
   "outputs": [],
   "source": [
    "# 우리가 사용할 데이터 불러오기.\n",
    "timesData = pd.read_csv(file_path+\"/timesData.csv\")"
   ]
  },
  {
   "cell_type": "code",
   "execution_count": 10,
   "metadata": {
    "tags": []
   },
   "outputs": [
    {
     "output_type": "stream",
     "name": "stdout",
     "text": "<class 'pandas.core.frame.DataFrame'>\nRangeIndex: 2603 entries, 0 to 2602\nData columns (total 14 columns):\n #   Column                  Non-Null Count  Dtype  \n---  ------                  --------------  -----  \n 0   world_rank              2603 non-null   object \n 1   university_name         2603 non-null   object \n 2   country                 2603 non-null   object \n 3   teaching                2603 non-null   float64\n 4   international           2603 non-null   object \n 5   research                2603 non-null   float64\n 6   citations               2603 non-null   float64\n 7   income                  2603 non-null   object \n 8   total_score             2603 non-null   object \n 9   num_students            2544 non-null   object \n 10  student_staff_ratio     2544 non-null   float64\n 11  international_students  2536 non-null   object \n 12  female_male_ratio       2370 non-null   object \n 13  year                    2603 non-null   int64  \ndtypes: float64(4), int64(1), object(9)\nmemory usage: 284.8+ KB\n"
    }
   ],
   "source": [
    "# timesData에 대한 정보.\n",
    "timesData.info()"
   ]
  },
  {
   "cell_type": "code",
   "execution_count": 11,
   "metadata": {},
   "outputs": [
    {
     "output_type": "execute_result",
     "data": {
      "text/plain": "  world_rank                        university_name                   country  \\\n0          1                     Harvard University  United States of America   \n1          2     California Institute of Technology  United States of America   \n2          3  Massachusetts Institute of Technology  United States of America   \n3          4                    Stanford University  United States of America   \n4          5                   Princeton University  United States of America   \n5          6                University of Cambridge            United Kingdom   \n6          6                   University of Oxford            United Kingdom   \n7          8     University of California, Berkeley  United States of America   \n8          9                Imperial College London            United Kingdom   \n9         10                        Yale University  United States of America   \n\n   teaching international  research  citations income total_score  \\\n0      99.7          72.4      98.7       98.8   34.5        96.1   \n1      97.7          54.6      98.0       99.9   83.7        96.0   \n2      97.8          82.3      91.4       99.9   87.5        95.6   \n3      98.3          29.5      98.1       99.2   64.3        94.3   \n4      90.9          70.3      95.4       99.9      -        94.2   \n5      90.5          77.7      94.1       94.0   57.0        91.2   \n6      88.2          77.2      93.9       95.1   73.5        91.2   \n7      84.2          39.6      99.3       97.8      -        91.1   \n8      89.2          90.0      94.5       88.3   92.9        90.6   \n9      92.1          59.2      89.7       91.5      -        89.5   \n\n  num_students  student_staff_ratio international_students female_male_ratio  \\\n0       20,152                  8.9                    25%               NaN   \n1        2,243                  6.9                    27%           33 : 67   \n2       11,074                  9.0                    33%           37 : 63   \n3       15,596                  7.8                    22%           42 : 58   \n4        7,929                  8.4                    27%           45 : 55   \n5       18,812                 11.8                    34%           46 : 54   \n6       19,919                 11.6                    34%           46 : 54   \n7       36,186                 16.4                    15%           50 : 50   \n8       15,060                 11.7                    51%           37 : 63   \n9       11,751                  4.4                    20%           50 : 50   \n\n   year  \n0  2011  \n1  2011  \n2  2011  \n3  2011  \n4  2011  \n5  2011  \n6  2011  \n7  2011  \n8  2011  \n9  2011  ",
      "text/html": "<div>\n<style scoped>\n    .dataframe tbody tr th:only-of-type {\n        vertical-align: middle;\n    }\n\n    .dataframe tbody tr th {\n        vertical-align: top;\n    }\n\n    .dataframe thead th {\n        text-align: right;\n    }\n</style>\n<table border=\"1\" class=\"dataframe\">\n  <thead>\n    <tr style=\"text-align: right;\">\n      <th></th>\n      <th>world_rank</th>\n      <th>university_name</th>\n      <th>country</th>\n      <th>teaching</th>\n      <th>international</th>\n      <th>research</th>\n      <th>citations</th>\n      <th>income</th>\n      <th>total_score</th>\n      <th>num_students</th>\n      <th>student_staff_ratio</th>\n      <th>international_students</th>\n      <th>female_male_ratio</th>\n      <th>year</th>\n    </tr>\n  </thead>\n  <tbody>\n    <tr>\n      <th>0</th>\n      <td>1</td>\n      <td>Harvard University</td>\n      <td>United States of America</td>\n      <td>99.7</td>\n      <td>72.4</td>\n      <td>98.7</td>\n      <td>98.8</td>\n      <td>34.5</td>\n      <td>96.1</td>\n      <td>20,152</td>\n      <td>8.9</td>\n      <td>25%</td>\n      <td>NaN</td>\n      <td>2011</td>\n    </tr>\n    <tr>\n      <th>1</th>\n      <td>2</td>\n      <td>California Institute of Technology</td>\n      <td>United States of America</td>\n      <td>97.7</td>\n      <td>54.6</td>\n      <td>98.0</td>\n      <td>99.9</td>\n      <td>83.7</td>\n      <td>96.0</td>\n      <td>2,243</td>\n      <td>6.9</td>\n      <td>27%</td>\n      <td>33 : 67</td>\n      <td>2011</td>\n    </tr>\n    <tr>\n      <th>2</th>\n      <td>3</td>\n      <td>Massachusetts Institute of Technology</td>\n      <td>United States of America</td>\n      <td>97.8</td>\n      <td>82.3</td>\n      <td>91.4</td>\n      <td>99.9</td>\n      <td>87.5</td>\n      <td>95.6</td>\n      <td>11,074</td>\n      <td>9.0</td>\n      <td>33%</td>\n      <td>37 : 63</td>\n      <td>2011</td>\n    </tr>\n    <tr>\n      <th>3</th>\n      <td>4</td>\n      <td>Stanford University</td>\n      <td>United States of America</td>\n      <td>98.3</td>\n      <td>29.5</td>\n      <td>98.1</td>\n      <td>99.2</td>\n      <td>64.3</td>\n      <td>94.3</td>\n      <td>15,596</td>\n      <td>7.8</td>\n      <td>22%</td>\n      <td>42 : 58</td>\n      <td>2011</td>\n    </tr>\n    <tr>\n      <th>4</th>\n      <td>5</td>\n      <td>Princeton University</td>\n      <td>United States of America</td>\n      <td>90.9</td>\n      <td>70.3</td>\n      <td>95.4</td>\n      <td>99.9</td>\n      <td>-</td>\n      <td>94.2</td>\n      <td>7,929</td>\n      <td>8.4</td>\n      <td>27%</td>\n      <td>45 : 55</td>\n      <td>2011</td>\n    </tr>\n    <tr>\n      <th>5</th>\n      <td>6</td>\n      <td>University of Cambridge</td>\n      <td>United Kingdom</td>\n      <td>90.5</td>\n      <td>77.7</td>\n      <td>94.1</td>\n      <td>94.0</td>\n      <td>57.0</td>\n      <td>91.2</td>\n      <td>18,812</td>\n      <td>11.8</td>\n      <td>34%</td>\n      <td>46 : 54</td>\n      <td>2011</td>\n    </tr>\n    <tr>\n      <th>6</th>\n      <td>6</td>\n      <td>University of Oxford</td>\n      <td>United Kingdom</td>\n      <td>88.2</td>\n      <td>77.2</td>\n      <td>93.9</td>\n      <td>95.1</td>\n      <td>73.5</td>\n      <td>91.2</td>\n      <td>19,919</td>\n      <td>11.6</td>\n      <td>34%</td>\n      <td>46 : 54</td>\n      <td>2011</td>\n    </tr>\n    <tr>\n      <th>7</th>\n      <td>8</td>\n      <td>University of California, Berkeley</td>\n      <td>United States of America</td>\n      <td>84.2</td>\n      <td>39.6</td>\n      <td>99.3</td>\n      <td>97.8</td>\n      <td>-</td>\n      <td>91.1</td>\n      <td>36,186</td>\n      <td>16.4</td>\n      <td>15%</td>\n      <td>50 : 50</td>\n      <td>2011</td>\n    </tr>\n    <tr>\n      <th>8</th>\n      <td>9</td>\n      <td>Imperial College London</td>\n      <td>United Kingdom</td>\n      <td>89.2</td>\n      <td>90.0</td>\n      <td>94.5</td>\n      <td>88.3</td>\n      <td>92.9</td>\n      <td>90.6</td>\n      <td>15,060</td>\n      <td>11.7</td>\n      <td>51%</td>\n      <td>37 : 63</td>\n      <td>2011</td>\n    </tr>\n    <tr>\n      <th>9</th>\n      <td>10</td>\n      <td>Yale University</td>\n      <td>United States of America</td>\n      <td>92.1</td>\n      <td>59.2</td>\n      <td>89.7</td>\n      <td>91.5</td>\n      <td>-</td>\n      <td>89.5</td>\n      <td>11,751</td>\n      <td>4.4</td>\n      <td>20%</td>\n      <td>50 : 50</td>\n      <td>2011</td>\n    </tr>\n  </tbody>\n</table>\n</div>"
     },
     "metadata": {},
     "execution_count": 11
    }
   ],
   "source": [
    "timesData.head(10)"
   ]
  },
  {
   "cell_type": "markdown",
   "metadata": {},
   "source": [
    "<a id=\"2\"></a> <br>\n",
    "# Line Charts\n",
    "\n",
    "<font color='red'>\n",
    "Line Charts 예제: 인용과 교육 (Citation and Teaching) vs 탑 100 대학들\n",
    "<font color='black'>\n",
    "\n",
    "* Import graph_objs as *go*\n",
    "* 선 생성\n",
    "    * x = x axis\n",
    "    * y = y axis\n",
    "    * mode = marker, line 또는 marker + line와 같은 plot의 타입\n",
    "    * name = plots의 이름\n",
    "    * marker = marker는 dictionary와 함께 사용한다.\n",
    "        * color = 선의 색깔. RGB(빨강, 초록, 파랑)과 불투명도(alpha)\n",
    "    * text = The hover text (hover는 curser이다.)\n",
    "* data = 우리가 넣은 것들을 나열한 것.\n",
    "* layout = dictionary이다.\n",
    "    * title = title of layout\n",
    "    * x axis = it is dictionary\n",
    "        * title = label of x axis\n",
    "        * ticklen = length of x axis ticks\n",
    "        * zeroline = zeroline을 표시할 것인지 안할것인지.\n",
    "* fig = 그것은 data와 layout을 포함한다.\n",
    "* iplot() = data와 layout으로 생성된 도형을 plot으로 만듭니다."
   ]
  },
  {
   "cell_type": "code",
   "execution_count": 12,
   "metadata": {},
   "outputs": [
    {
     "output_type": "error",
     "ename": "ValueError",
     "evalue": "Mime type rendering requires nbformat>=4.2.0 but it is not installed",
     "traceback": [
      "\u001b[1;31m---------------------------------------------------------------------------\u001b[0m",
      "\u001b[1;31mValueError\u001b[0m                                Traceback (most recent call last)",
      "\u001b[1;32m<ipython-input-12-6a17bc6ece3b>\u001b[0m in \u001b[0;36m<module>\u001b[1;34m\u001b[0m\n\u001b[0;32m     27\u001b[0m              )\n\u001b[0;32m     28\u001b[0m \u001b[0mfig\u001b[0m \u001b[1;33m=\u001b[0m \u001b[0mdict\u001b[0m\u001b[1;33m(\u001b[0m\u001b[0mdata\u001b[0m \u001b[1;33m=\u001b[0m \u001b[0mdata\u001b[0m\u001b[1;33m,\u001b[0m \u001b[0mlayout\u001b[0m \u001b[1;33m=\u001b[0m \u001b[0mlayout\u001b[0m\u001b[1;33m)\u001b[0m\u001b[1;33m\u001b[0m\u001b[1;33m\u001b[0m\u001b[0m\n\u001b[1;32m---> 29\u001b[1;33m \u001b[0miplot\u001b[0m\u001b[1;33m(\u001b[0m\u001b[0mfig\u001b[0m\u001b[1;33m)\u001b[0m\u001b[1;33m\u001b[0m\u001b[1;33m\u001b[0m\u001b[0m\n\u001b[0m",
      "\u001b[1;32m~\\anaconda3\\envs\\pytorch\\lib\\site-packages\\plotly\\offline\\offline.py\u001b[0m in \u001b[0;36miplot\u001b[1;34m(figure_or_data, show_link, link_text, validate, image, filename, image_width, image_height, config, auto_play, animation_opts)\u001b[0m\n\u001b[0;32m    390\u001b[0m \u001b[1;33m\u001b[0m\u001b[0m\n\u001b[0;32m    391\u001b[0m     \u001b[1;31m# Show figure\u001b[0m\u001b[1;33m\u001b[0m\u001b[1;33m\u001b[0m\u001b[1;33m\u001b[0m\u001b[0m\n\u001b[1;32m--> 392\u001b[1;33m     pio.show(\n\u001b[0m\u001b[0;32m    393\u001b[0m         \u001b[0mfigure\u001b[0m\u001b[1;33m,\u001b[0m\u001b[1;33m\u001b[0m\u001b[1;33m\u001b[0m\u001b[0m\n\u001b[0;32m    394\u001b[0m         \u001b[0mvalidate\u001b[0m\u001b[1;33m=\u001b[0m\u001b[0mvalidate\u001b[0m\u001b[1;33m,\u001b[0m\u001b[1;33m\u001b[0m\u001b[1;33m\u001b[0m\u001b[0m\n",
      "\u001b[1;32m~\\anaconda3\\envs\\pytorch\\lib\\site-packages\\plotly\\io\\_renderers.py\u001b[0m in \u001b[0;36mshow\u001b[1;34m(fig, renderer, validate, **kwargs)\u001b[0m\n\u001b[0;32m    383\u001b[0m \u001b[1;33m\u001b[0m\u001b[0m\n\u001b[0;32m    384\u001b[0m         \u001b[1;32mif\u001b[0m \u001b[1;32mnot\u001b[0m \u001b[0mnbformat\u001b[0m \u001b[1;32mor\u001b[0m \u001b[0mLooseVersion\u001b[0m\u001b[1;33m(\u001b[0m\u001b[0mnbformat\u001b[0m\u001b[1;33m.\u001b[0m\u001b[0m__version__\u001b[0m\u001b[1;33m)\u001b[0m \u001b[1;33m<\u001b[0m \u001b[0mLooseVersion\u001b[0m\u001b[1;33m(\u001b[0m\u001b[1;34m\"4.2.0\"\u001b[0m\u001b[1;33m)\u001b[0m\u001b[1;33m:\u001b[0m\u001b[1;33m\u001b[0m\u001b[1;33m\u001b[0m\u001b[0m\n\u001b[1;32m--> 385\u001b[1;33m             raise ValueError(\n\u001b[0m\u001b[0;32m    386\u001b[0m                 \u001b[1;34m\"Mime type rendering requires nbformat>=4.2.0 but it is not installed\"\u001b[0m\u001b[1;33m\u001b[0m\u001b[1;33m\u001b[0m\u001b[0m\n\u001b[0;32m    387\u001b[0m             )\n",
      "\u001b[1;31mValueError\u001b[0m: Mime type rendering requires nbformat>=4.2.0 but it is not installed"
     ]
    }
   ],
   "source": [
    "# 준비된 data frame\n",
    "df = timesData.iloc[:100, :]\n",
    "\n",
    "# import graph objects as \"go\"\n",
    "import plotly.graph_objs as go\n",
    "\n",
    "# trace1을 만든다.\n",
    "trace1 = go.Scatter(\n",
    "                    x = df.world_rank,\n",
    "                    y = df.citations,\n",
    "                    mode = \"lines\",\n",
    "                    name = \"citations\",\n",
    "                    marker = dict(color = 'rgba(16,112,2,0.8)'),\n",
    "                    text = df.university_name)\n",
    "\n",
    "# trace2을 만든다.\n",
    "trace2 = go.Scatter(\n",
    "                    x = df.world_rank,\n",
    "                    y = df.teaching,\n",
    "                    mode = \"lines+markers\",\n",
    "                    name = \"teaching\",\n",
    "                    marker = dict(color = 'rgba(80,26,80,0.8)'),\n",
    "                    text = df.university_name)\n",
    "data = [trace1, trace2]\n",
    "layout = dict(title = 'Citation and Teaching vs World Rank of Top 100 Universities',\n",
    "              xaxis= dict(title= 'World Rank',ticklen= 5,zeroline= False)\n",
    "             )\n",
    "fig = dict(data = data, layout = layout)\n",
    "iplot(fig)"
   ]
  },
  {
   "cell_type": "markdown",
   "metadata": {},
   "source": [
    "<a id=\"3\"></a> <br>\n",
    "# Scatter\n",
    "\n",
    "<font color='red'>\n",
    "Scatter 예제: 인용 vs 2014,2015,2016년 탑100대학들\n",
    "\n",
    "\n",
    "<font color='black'>\n",
    "* Import graph_objs as *go*\n",
    "\n",
    "* 생성하기\n",
    "    * x = x axis\n",
    "    * y = y axis\n",
    "    * mode = marker, line 또는 marker + line와 같은 plot의 타입\n",
    "    * name = plots의 이름\n",
    "    * marker = marker는 dictionary와 함께 사용한다.\n",
    "        * color = 선의 색깔. RGB(빨강, 초록, 파랑)과 불투명도(alpha)\n",
    "    * text = The hover text (hover는 curser이다.)\n",
    "* data = 우리가 넣은 것들을 나열한 것.\n",
    "* layout = it is dictionary.\n",
    "    * title = title of layout\n",
    "    * x axis = it is dictionary\n",
    "        * title = label of x axis\n",
    "        * ticklen = length of x axis ticks\n",
    "        * zeroline = zeroline을 표시할 것인지 안할것인지.\n",
    "    * y axis = it is dictionary and same with x axis\n",
    "* fig = 그것은 data와 layout을 포함한다.\n",
    "* iplot() = data와 layout으로 생성된 도형을 plot으로 만듭니다.\n",
    "\n"
   ]
  },
  {
   "cell_type": "code",
   "execution_count": 14,
   "metadata": {},
   "outputs": [
    {
     "output_type": "error",
     "ename": "ValueError",
     "evalue": "Mime type rendering requires nbformat>=4.2.0 but it is not installed",
     "traceback": [
      "\u001b[1;31m---------------------------------------------------------------------------\u001b[0m",
      "\u001b[1;31mValueError\u001b[0m                                Traceback (most recent call last)",
      "\u001b[1;32m<ipython-input-14-e4e86aca08aa>\u001b[0m in \u001b[0;36m<module>\u001b[1;34m\u001b[0m\n\u001b[0;32m     35\u001b[0m              )\n\u001b[0;32m     36\u001b[0m \u001b[0mfig\u001b[0m \u001b[1;33m=\u001b[0m \u001b[0mdict\u001b[0m\u001b[1;33m(\u001b[0m\u001b[0mdata\u001b[0m \u001b[1;33m=\u001b[0m \u001b[0mdata\u001b[0m\u001b[1;33m,\u001b[0m \u001b[0mlayout\u001b[0m \u001b[1;33m=\u001b[0m \u001b[0mlayout\u001b[0m\u001b[1;33m)\u001b[0m\u001b[1;33m\u001b[0m\u001b[1;33m\u001b[0m\u001b[0m\n\u001b[1;32m---> 37\u001b[1;33m \u001b[0miplot\u001b[0m\u001b[1;33m(\u001b[0m\u001b[0mfig\u001b[0m\u001b[1;33m)\u001b[0m\u001b[1;33m\u001b[0m\u001b[1;33m\u001b[0m\u001b[0m\n\u001b[0m",
      "\u001b[1;32m~\\anaconda3\\envs\\pytorch\\lib\\site-packages\\plotly\\offline\\offline.py\u001b[0m in \u001b[0;36miplot\u001b[1;34m(figure_or_data, show_link, link_text, validate, image, filename, image_width, image_height, config, auto_play, animation_opts)\u001b[0m\n\u001b[0;32m    390\u001b[0m \u001b[1;33m\u001b[0m\u001b[0m\n\u001b[0;32m    391\u001b[0m     \u001b[1;31m# Show figure\u001b[0m\u001b[1;33m\u001b[0m\u001b[1;33m\u001b[0m\u001b[1;33m\u001b[0m\u001b[0m\n\u001b[1;32m--> 392\u001b[1;33m     pio.show(\n\u001b[0m\u001b[0;32m    393\u001b[0m         \u001b[0mfigure\u001b[0m\u001b[1;33m,\u001b[0m\u001b[1;33m\u001b[0m\u001b[1;33m\u001b[0m\u001b[0m\n\u001b[0;32m    394\u001b[0m         \u001b[0mvalidate\u001b[0m\u001b[1;33m=\u001b[0m\u001b[0mvalidate\u001b[0m\u001b[1;33m,\u001b[0m\u001b[1;33m\u001b[0m\u001b[1;33m\u001b[0m\u001b[0m\n",
      "\u001b[1;32m~\\anaconda3\\envs\\pytorch\\lib\\site-packages\\plotly\\io\\_renderers.py\u001b[0m in \u001b[0;36mshow\u001b[1;34m(fig, renderer, validate, **kwargs)\u001b[0m\n\u001b[0;32m    383\u001b[0m \u001b[1;33m\u001b[0m\u001b[0m\n\u001b[0;32m    384\u001b[0m         \u001b[1;32mif\u001b[0m \u001b[1;32mnot\u001b[0m \u001b[0mnbformat\u001b[0m \u001b[1;32mor\u001b[0m \u001b[0mLooseVersion\u001b[0m\u001b[1;33m(\u001b[0m\u001b[0mnbformat\u001b[0m\u001b[1;33m.\u001b[0m\u001b[0m__version__\u001b[0m\u001b[1;33m)\u001b[0m \u001b[1;33m<\u001b[0m \u001b[0mLooseVersion\u001b[0m\u001b[1;33m(\u001b[0m\u001b[1;34m\"4.2.0\"\u001b[0m\u001b[1;33m)\u001b[0m\u001b[1;33m:\u001b[0m\u001b[1;33m\u001b[0m\u001b[1;33m\u001b[0m\u001b[0m\n\u001b[1;32m--> 385\u001b[1;33m             raise ValueError(\n\u001b[0m\u001b[0;32m    386\u001b[0m                 \u001b[1;34m\"Mime type rendering requires nbformat>=4.2.0 but it is not installed\"\u001b[0m\u001b[1;33m\u001b[0m\u001b[1;33m\u001b[0m\u001b[0m\n\u001b[0;32m    387\u001b[0m             )\n",
      "\u001b[1;31mValueError\u001b[0m: Mime type rendering requires nbformat>=4.2.0 but it is not installed"
     ]
    }
   ],
   "source": [
    "# 준비된 data frames\n",
    "df2014 = timesData[timesData.year == 2014].iloc[:100,:]\n",
    "df2015 = timesData[timesData.year == 2015].iloc[:100,:]\n",
    "df2016 = timesData[timesData.year == 2016].iloc[:100,:]\n",
    "# import graph objects as \"go\"\n",
    "import plotly.graph_objs as go\n",
    "# creating trace1\n",
    "trace1 =go.Scatter(\n",
    "                    x = df2014.world_rank,\n",
    "                    y = df2014.citations,\n",
    "                    mode = \"markers\",\n",
    "                    name = \"2014\",\n",
    "                    marker = dict(color = 'rgba(255, 128, 255, 0.8)'),\n",
    "                    text= df2014.university_name)\n",
    "# creating trace2\n",
    "trace2 =go.Scatter(\n",
    "                    x = df2015.world_rank,\n",
    "                    y = df2015.citations,\n",
    "                    mode = \"markers\",\n",
    "                    name = \"2015\",\n",
    "                    marker = dict(color = 'rgba(255, 128, 2, 0.8)'),\n",
    "                    text= df2015.university_name)\n",
    "# creating trace3\n",
    "trace3 =go.Scatter(\n",
    "                    x = df2016.world_rank,\n",
    "                    y = df2016.citations,\n",
    "                    mode = \"markers\",\n",
    "                    name = \"2016\",\n",
    "                    marker = dict(color = 'rgba(0, 255, 200, 0.8)'),\n",
    "                    text= df2016.university_name)\n",
    "data = [trace1, trace2, trace3]\n",
    "layout = dict(title = 'Citation vs world rank of top 100 universities with 2014, 2015 and 2016 years',\n",
    "              xaxis= dict(title= 'World Rank',ticklen= 5,zeroline= False),\n",
    "              yaxis= dict(title= 'Citation',ticklen= 5,zeroline= False)\n",
    "             )\n",
    "fig = dict(data = data, layout = layout)\n",
    "iplot(fig)"
   ]
  },
  {
   "cell_type": "code",
   "execution_count": null,
   "metadata": {},
   "outputs": [],
   "source": []
  },
  {
   "cell_type": "code",
   "execution_count": null,
   "metadata": {},
   "outputs": [],
   "source": []
  }
 ]
}